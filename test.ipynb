{
 "cells": [
  {
   "cell_type": "code",
   "execution_count": 1,
   "metadata": {},
   "outputs": [],
   "source": [
    "import pandas as pd\n",
    "import numpy as np\n",
    "import plotly.express as px\n",
    "import ipywidgets as widgets\n",
    "from IPython.display import display"
   ]
  },
  {
   "cell_type": "code",
   "execution_count": 31,
   "metadata": {},
   "outputs": [],
   "source": [
    "df = pd.read_csv('abc.csv')"
   ]
  },
  {
   "cell_type": "code",
   "execution_count": 49,
   "metadata": {},
   "outputs": [],
   "source": [
    "def eventhandler(change):\n",
    "    '''\n",
    "    This handles events from the widgets that help a user visualize topic word distributions for individual topics in the LDA \n",
    "    section. Clears the current output and regenerates a new chart and table according to the newest topic the user selects. \n",
    "    '''\n",
    "    \n",
    "    #clear previous output\n",
    "    plot_output1.clear_output()\n",
    "    output_feat1.clear_output()\n",
    "    \n",
    "    #redefine the topic word distribution chart using new topic selected in widget\n",
    "    with plot_output1:\n",
    "        Topic_Title = \"Letter: {}\".format(change.new)\n",
    "        t0 = df[df['letter'] == change.new]\n",
    "        t0 = t0.groupby('condition').agg(mean=('count','sum'))\n",
    "        fig = px.bar(t0, x='mean', y=t0.index,\n",
    "                     orientation='h',\n",
    "                     title=Topic_Title)\n",
    "        fig.show()\n",
    "        \n",
    "    with output_feat1:\n",
    "        display(df[df['letter'] == change.new])\n",
    "        "
   ]
  },
  {
   "cell_type": "code",
   "execution_count": 50,
   "metadata": {},
   "outputs": [
    {
     "data": {
      "application/vnd.jupyter.widget-view+json": {
       "model_id": "8e105e73588049a78d6cc94a9ad9b0dd",
       "version_major": 2,
       "version_minor": 0
      },
      "text/plain": [
       "VBox(children=(Dropdown(options=('a', 'b', 'c', 'd', 'e'), value='a'), Tab(children=(Output(), Output()), _tit…"
      ]
     },
     "metadata": {},
     "output_type": "display_data"
    }
   ],
   "source": [
    "dropdown_feature = widgets.Dropdown(options = df['letter'].unique())\n",
    "#Create widgets\n",
    "output_feat1 = widgets.Output()\n",
    "plot_output1 = widgets.Output()\n",
    "\n",
    "#most of the work done in the event handler function to display the data\n",
    "dropdown_feature.observe(eventhandler, names='value')\n",
    "\n",
    "#organize widgets into dashbard\n",
    "tab = widgets.Tab([plot_output1,output_feat1])\n",
    "tab.set_title(0, 'Plot')\n",
    "tab.set_title(1, 'Explore Data')\n",
    "\n",
    "dashboard = widgets.VBox([dropdown_feature, tab])\n",
    "\n",
    "#finally display the dashboard\n",
    "display(dashboard)\n"
   ]
  },
  {
   "cell_type": "code",
   "execution_count": null,
   "metadata": {},
   "outputs": [],
   "source": []
  }
 ],
 "metadata": {
  "hide_input": false,
  "kernelspec": {
   "display_name": "Python 3",
   "language": "python",
   "name": "python3"
  },
  "language_info": {
   "codemirror_mode": {
    "name": "ipython",
    "version": 3
   },
   "file_extension": ".py",
   "mimetype": "text/x-python",
   "name": "python",
   "nbconvert_exporter": "python",
   "pygments_lexer": "ipython3",
   "version": "3.7.6"
  },
  "toc": {
   "base_numbering": 1,
   "nav_menu": {},
   "number_sections": true,
   "sideBar": true,
   "skip_h1_title": false,
   "title_cell": "Table of Contents",
   "title_sidebar": "Contents",
   "toc_cell": false,
   "toc_position": {},
   "toc_section_display": true,
   "toc_window_display": false
  }
 },
 "nbformat": 4,
 "nbformat_minor": 4
}
